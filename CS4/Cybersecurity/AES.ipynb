{
 "cells": [
  {
   "cell_type": "code",
   "execution_count": 1,
   "metadata": {},
   "outputs": [
    {
     "name": "stdout",
     "output_type": "stream",
     "text": [
      "Requirement already satisfied: pycryptodome in /usr/local/lib/python3.7/site-packages (3.9.8)\n"
     ]
    }
   ],
   "source": [
    "!pip install pycryptodome"
   ]
  },
  {
   "cell_type": "code",
   "execution_count": 2,
   "metadata": {},
   "outputs": [],
   "source": [
    "from Crypto.Cipher import AES\n",
    "from Crypto.Random import get_random_bytes"
   ]
  },
  {
   "cell_type": "code",
   "execution_count": 3,
   "metadata": {},
   "outputs": [],
   "source": [
    "plaintext = b'A very new message!'\n",
    "#plaintext = b'hello world 1234'\n",
    "\n",
    "#key = get_random_bytes(16)\n",
    "key = b'new sixteen bits'"
   ]
  },
  {
   "cell_type": "code",
   "execution_count": 4,
   "metadata": {},
   "outputs": [
    {
     "name": "stdout",
     "output_type": "stream",
     "text": [
      "b'(F?b\\x81\\x88\\xac\\x81\\xfb%&\\xedJ\\x16\\xcd\\xa7\\x98?h'\n"
     ]
    }
   ],
   "source": [
    "cipher = AES.new(key, AES.MODE_EAX)\n",
    "\n",
    "ciphertext = cipher.encrypt(plaintext)\n",
    "#ciphertext, tag = cipher.encrypt_and_digest(plaintext)\n",
    "nonce = cipher.nonce\n",
    "print(ciphertext)"
   ]
  },
  {
   "cell_type": "code",
   "execution_count": 5,
   "metadata": {},
   "outputs": [
    {
     "name": "stdout",
     "output_type": "stream",
     "text": [
      "b'A very new message!'\n"
     ]
    }
   ],
   "source": [
    "decipher = AES.new(key, AES.MODE_EAX,nonce=nonce)\n",
    "\n",
    "decrypted = decipher.decrypt(ciphertext)\n",
    "print(decrypted)"
   ]
  },
  {
   "cell_type": "code",
   "execution_count": 6,
   "metadata": {},
   "outputs": [
    {
     "name": "stdout",
     "output_type": "stream",
     "text": [
      "b'\\xe8\\xc4\\x02bZ1U\\x00\\x1f\\xc1\\xb4O\\xd7\\xb7!9F\\x1ck'\n"
     ]
    }
   ],
   "source": [
    "cipher = AES.new(key, AES.MODE_EAX)\n",
    "\n",
    "ciphertext, tag = cipher.encrypt_and_digest(plaintext)\n",
    "nonce = cipher.nonce\n",
    "print(ciphertext)"
   ]
  },
  {
   "cell_type": "code",
   "execution_count": 7,
   "metadata": {},
   "outputs": [
    {
     "name": "stdout",
     "output_type": "stream",
     "text": [
      "The message is authentic: b'A very new message!'\n",
      "b'A very new message!'\n"
     ]
    }
   ],
   "source": [
    "#decipher = AES.new(key, AES.MODE_CBC)\n",
    "decipher = AES.new(key, AES.MODE_EAX,nonce=nonce)\n",
    "decrypted = decipher.decrypt(ciphertext)\n",
    "try:\n",
    "    decipher.verify(tag)\n",
    "    print(\"The message is authentic:\", plaintext)\n",
    "except ValueError:\n",
    "    print(\"Key incorrect or message corrupted\")\n",
    "#print(str(decrypted))\n",
    "print(decrypted)"
   ]
  },
  {
   "cell_type": "code",
   "execution_count": 8,
   "metadata": {},
   "outputs": [
    {
     "name": "stdout",
     "output_type": "stream",
     "text": [
      "b'A very new message!'\n"
     ]
    }
   ],
   "source": [
    "decipher = AES.new(key, AES.MODE_EAX,nonce=nonce)\n",
    "\n",
    "try:\n",
    "    decrypted = decipher.decrypt_and_verify(ciphertext,tag)\n",
    "    print(decrypted)\n",
    "except ValueError:\n",
    "    print(\"Key incorrect or message corrupted\")"
   ]
  },
  {
   "cell_type": "code",
   "execution_count": null,
   "metadata": {},
   "outputs": [],
   "source": []
  }
 ],
 "metadata": {
  "kernelspec": {
   "display_name": "Python 3",
   "language": "python",
   "name": "python3"
  },
  "language_info": {
   "codemirror_mode": {
    "name": "ipython",
    "version": 3
   },
   "file_extension": ".py",
   "mimetype": "text/x-python",
   "name": "python",
   "nbconvert_exporter": "python",
   "pygments_lexer": "ipython3",
   "version": "3.7.7"
  }
 },
 "nbformat": 4,
 "nbformat_minor": 4
}
