{
 "cells": [
  {
   "cell_type": "code",
   "execution_count": 1,
   "metadata": {},
   "outputs": [
    {
     "name": "stdout",
     "output_type": "stream",
     "text": [
      "Requirement already satisfied: pycryptodome in /usr/local/lib/python3.7/site-packages (3.9.8)\n"
     ]
    }
   ],
   "source": [
    "!pip install pycryptodome"
   ]
  },
  {
   "cell_type": "code",
   "execution_count": 2,
   "metadata": {},
   "outputs": [],
   "source": [
    "from Crypto.Cipher import AES\n",
    "from Crypto.Random import get_random_bytes"
   ]
  },
  {
   "cell_type": "code",
   "execution_count": 3,
   "metadata": {},
   "outputs": [],
   "source": [
    "plaintext = b'Text for encrypt'\n",
    "#plaintext = b'hello world 1234'\n",
    "\n",
    "#key = get_random_bytes(16)\n",
    "key = b'Sixteen byte key'"
   ]
  },
  {
   "cell_type": "code",
   "execution_count": 4,
   "metadata": {},
   "outputs": [
    {
     "name": "stdout",
     "output_type": "stream",
     "text": [
      "b\"]\\xd2\\xedk\\x8d/y\\xfbKk\\x0c\\xda\\t\\xe9\\x94'\"\n"
     ]
    }
   ],
   "source": [
    "cipher = AES.new(key, AES.MODE_EAX)\n",
    "\n",
    "ciphertext = cipher.encrypt(plaintext)\n",
    "#ciphertext, tag = cipher.encrypt_and_digest(plaintext)\n",
    "nonce = cipher.nonce\n",
    "print(ciphertext)"
   ]
  },
  {
   "cell_type": "code",
   "execution_count": 5,
   "metadata": {},
   "outputs": [
    {
     "name": "stdout",
     "output_type": "stream",
     "text": [
      "b'Text for encrypt'\n"
     ]
    }
   ],
   "source": [
    "decipher = AES.new(key, AES.MODE_EAX,nonce=nonce)\n",
    "\n",
    "decrypted = decipher.decrypt(ciphertext)\n",
    "print(decrypted)"
   ]
  },
  {
   "cell_type": "code",
   "execution_count": 6,
   "metadata": {},
   "outputs": [
    {
     "name": "stdout",
     "output_type": "stream",
     "text": [
      "b'\\xec\\x12\\xcd\\xbfk\\xf8+\\xf8\\x12\\xfc`\\x06\\x89\\xfe(\\xb7'\n"
     ]
    }
   ],
   "source": [
    "cipher = AES.new(key, AES.MODE_EAX)\n",
    "\n",
    "ciphertext, tag = cipher.encrypt_and_digest(plaintext)\n",
    "nonce = cipher.nonce\n",
    "print(ciphertext)"
   ]
  },
  {
   "cell_type": "code",
   "execution_count": 7,
   "metadata": {},
   "outputs": [
    {
     "name": "stdout",
     "output_type": "stream",
     "text": [
      "The message is authentic: b'Text for encrypt'\n",
      "b'Text for encrypt'\n"
     ]
    }
   ],
   "source": [
    "#decipher = AES.new(key, AES.MODE_CBC)\n",
    "decipher = AES.new(key, AES.MODE_EAX,nonce=nonce)\n",
    "decrypted = decipher.decrypt(ciphertext)\n",
    "try:\n",
    "    decipher.verify(tag)\n",
    "    print(\"The message is authentic:\", plaintext)\n",
    "except ValueError:\n",
    "    print(\"Key incorrect or message corrupted\")\n",
    "#print(str(decrypted))\n",
    "print(decrypted)"
   ]
  },
  {
   "cell_type": "code",
   "execution_count": 7,
   "metadata": {},
   "outputs": [
    {
     "name": "stdout",
     "output_type": "stream",
     "text": [
      "b'Text for encrypt'\n"
     ]
    }
   ],
   "source": [
    "decipher = AES.new(key, AES.MODE_EAX,nonce=nonce)\n",
    "\n",
    "try:\n",
    "    decrypted = decipher.decrypt_and_verify(ciphertext,tag)\n",
    "    print(decrypted)\n",
    "except ValueError:\n",
    "    print(\"Key incorrect or message corrupted\")"
   ]
  },
  {
   "cell_type": "code",
   "execution_count": null,
   "metadata": {},
   "outputs": [],
   "source": []
  }
 ],
 "metadata": {
  "kernelspec": {
   "display_name": "Python 3",
   "language": "python",
   "name": "python3"
  },
  "language_info": {
   "codemirror_mode": {
    "name": "ipython",
    "version": 3
   },
   "file_extension": ".py",
   "mimetype": "text/x-python",
   "name": "python",
   "nbconvert_exporter": "python",
   "pygments_lexer": "ipython3",
   "version": "3.7.7"
  }
 },
 "nbformat": 4,
 "nbformat_minor": 4
}
