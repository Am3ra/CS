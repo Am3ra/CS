{
 "cells": [
  {
   "cell_type": "code",
   "execution_count": null,
   "metadata": {},
   "outputs": [],
   "source": [
    "\"\"\"\n",
    "By Raul Ramirez Velarde\n",
    "Aug 2020\n",
    "From multiples sources\n",
    "\"\"\""
   ]
  },
  {
   "cell_type": "code",
   "execution_count": null,
   "metadata": {},
   "outputs": [],
   "source": [
    "#!pip install pycryptodome"
   ]
  },
  {
   "cell_type": "code",
   "execution_count": 1,
   "metadata": {},
   "outputs": [],
   "source": [
    "from Crypto.Cipher import AES\n",
    "from Crypto.Random import get_random_bytes\n",
    "from Crypto.Cipher import Salsa20"
   ]
  },
  {
   "cell_type": "code",
   "execution_count": 2,
   "metadata": {},
   "outputs": [],
   "source": [
    "plaintext  = b'Text for encrypt but longer'\n",
    "plaintext2 = b' The second part of the secret.'\n",
    "#plaintext = b'hello world 1234'\n",
    "\n",
    "#key = get_random_bytes(16)\n",
    "key = b'Sixteen byte key'"
   ]
  },
  {
   "cell_type": "code",
   "execution_count": 3,
   "metadata": {},
   "outputs": [
    {
     "name": "stdout",
     "output_type": "stream",
     "text": [
      "b'\\xaa+a\\x99Z\\x0e,Sb\\xa1T\\x01r\\x8a\\xba\\xa98N\\xe4\\xdc\\xb4\\xda\\xa7b\\xf3\\xf2\\xe4\\xedy\\xf97\\xea\\x19\\xdd\\xceNY\\x0c_%W\\xde\\x14\\xc6\\xa7\\x8f\\xfa\\x85\\xad\\x95\\xf3\\xf7*G\\xb6/X`'\n"
     ]
    }
   ],
   "source": [
    "#Using a strean cipher\n",
    "cipher = Salsa20.new(key)\n",
    "\n",
    "ciphertext  = cipher.encrypt(b'Text for encrypt but longer')\n",
    "ciphertext += cipher.encrypt(b' The second part of the secret.')\n",
    "print(ciphertext)\n",
    "\n",
    "#build a message with the nonce and the ciphertext \n",
    "msg = cipher.nonce + ciphertext"
   ]
  },
  {
   "cell_type": "code",
   "execution_count": 4,
   "metadata": {},
   "outputs": [
    {
     "name": "stdout",
     "output_type": "stream",
     "text": [
      "b'Text for encrypt but longer The second part of the secret.'\n"
     ]
    }
   ],
   "source": [
    "nonce = msg[:8]\n",
    "ciphertext = msg[8:]\n",
    "decipher = Salsa20.new(key,nonce=nonce)\n",
    "\n",
    "decrypted = decipher.decrypt(ciphertext)\n",
    "print(decrypted)"
   ]
  },
  {
   "cell_type": "code",
   "execution_count": null,
   "metadata": {},
   "outputs": [],
   "source": []
  }
 ],
 "metadata": {
  "kernelspec": {
   "display_name": "Python 3",
   "language": "python",
   "name": "python3"
  },
  "language_info": {
   "codemirror_mode": {
    "name": "ipython",
    "version": 3
   },
   "file_extension": ".py",
   "mimetype": "text/x-python",
   "name": "python",
   "nbconvert_exporter": "python",
   "pygments_lexer": "ipython3",
   "version": "3.7.3"
  }
 },
 "nbformat": 4,
 "nbformat_minor": 2
}
