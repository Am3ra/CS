{
 "cells": [
  {
   "cell_type": "code",
   "execution_count": 41,
   "metadata": {},
   "outputs": [],
   "source": [
    "import numpy as np\n",
    "import pandas as pd\n",
    "from scipy.stats import moment"
   ]
  },
  {
   "cell_type": "code",
   "execution_count": 85,
   "metadata": {},
   "outputs": [],
   "source": [
    "def analysis(arr):\n",
    "    \"\"\"\n",
    "        Takes an array and calculates statistical moments.\n",
    "\n",
    "    \"\"\"\n",
    "    \n",
    "    \n",
    "    # i.    Determina la probabilidad de las distintas observaciones.\n",
    "    \n",
    "    unique,counts=np.unique(arr,return_counts=True)\n",
    "    prob = counts/len(arr)\n",
    "    # ii.         Determina el Momento estadístico 1\n",
    "    moment1 = np.sum(unique * prob)\n",
    "    \n",
    "    # iii.         Determina el Momento estadístico 2\n",
    "    moment2 =np.sum( np.square(unique) * prob)\n",
    "    \n",
    "    # iv.         Determina la Varianza\n",
    "    #print(\"var:\",moment2 - np.square(moment1))\n",
    "    \n",
    "    # v.         Determina el Momento estadístico 3\n",
    "    moment3 = np.sum(np.power(unique,3) * prob)\n",
    "    \n",
    "    # vi.         Determina el Momento estadístico 4\n",
    "    moment4 = (np.power(unique,4) * prob)\n",
    "    \n",
    "    \n",
    "    data = pd.DataFrame(np.array([counts,prob]).transpose(),index=unique, columns=[\"Quantity\",\"P[Xk]\"])\n",
    "#     print(data)\n",
    "    print(\"Varianza:\",np.var(arr))\n",
    "    print(\"Media:\",np.mean(arr))\n",
    "    \n",
    "    for i in range(1,5):\n",
    "        data[\"E[X^\"+str(i)+\"]\"] = np.power(unique,i) * prob\n",
    "    print(data)"
   ]
  },
  {
   "cell_type": "code",
   "execution_count": 86,
   "metadata": {},
   "outputs": [
    {
     "name": "stdout",
     "output_type": "stream",
     "text": [
      "Varianza: 1.0\n",
      "Media: 2.0\n",
      "   Quantity  P[Xk]  E[X^1]  E[X^2]  E[X^3]  E[X^4]\n",
      "1       4.0    0.4     0.4     0.4     0.4     0.4\n",
      "2       3.0    0.3     0.6     1.2     2.4     4.8\n",
      "3       2.0    0.2     0.6     1.8     5.4    16.2\n",
      "4       1.0    0.1     0.4     1.6     6.4    25.6\n",
      "Varianza: 1.82\n",
      "Media: 2.8\n",
      "   Quantity  P[Xk]  E[X^1]  E[X^2]  E[X^3]  E[X^4]\n",
      "1      23.0   0.23    0.23    0.23    0.23    0.23\n",
      "2      19.0   0.19    0.38    0.76    1.52    3.04\n",
      "3      28.0   0.28    0.84    2.52    7.56   22.68\n",
      "4      15.0   0.15    0.60    2.40    9.60   38.40\n",
      "5      15.0   0.15    0.75    3.75   18.75   93.75\n"
     ]
    }
   ],
   "source": [
    "X = np.array([1,1,2,1,3,4,2,1,3,2])\n",
    "analysis(X)\n",
    "Y = np.array([4,2,2,2,1,2,1,2,4,3,3,3,1,3,3,4,3,3,1,4,5,5,2,1,5,1,4,2,5,3,2,5,3,1,5,3,2,3,2,4,3,3,2,3,1,3,1,3,5,2,1,1,5,5,5,2,5,2,1,4,5,3,3,1,1,3,2,1,4,1,4,3,3,3,5,4,1,5,4,1,2,2,4,1,3,1,2,3,1,3,4,2,3,5,4,1,3,1,3,4])\n",
    "analysis(Y)"
   ]
  },
  {
   "cell_type": "markdown",
   "metadata": {},
   "source": [
    "Utilice principalmente Python con las librerias NumPy y Pandas."
   ]
  },
  {
   "cell_type": "code",
   "execution_count": null,
   "metadata": {},
   "outputs": [],
   "source": []
  }
 ],
 "metadata": {
  "kernelspec": {
   "display_name": "Python 3",
   "language": "python",
   "name": "python3"
  },
  "language_info": {
   "codemirror_mode": {
    "name": "ipython",
    "version": 3
   },
   "file_extension": ".py",
   "mimetype": "text/x-python",
   "name": "python",
   "nbconvert_exporter": "python",
   "pygments_lexer": "ipython3",
   "version": "3.8.2"
  }
 },
 "nbformat": 4,
 "nbformat_minor": 4
}
