{
 "cells": [
  {
   "cell_type": "markdown",
   "metadata": {},
   "source": [
    "Por: Alan Macedo Esparza, A01366288"
   ]
  },
  {
   "cell_type": "code",
   "execution_count": 1,
   "metadata": {},
   "outputs": [],
   "source": [
    "import numpy as np\n",
    "import pandas as pd"
   ]
  },
  {
   "cell_type": "code",
   "execution_count": 2,
   "metadata": {},
   "outputs": [],
   "source": [
    "def analysis(arr):\n",
    "    \"\"\"\n",
    "        Takes an array and calculates statistical moments.\n",
    "\n",
    "    \"\"\"\n",
    "    \n",
    "    \n",
    "    # i.    Determina la probabilidad de las distintas observaciones.\n",
    "    \n",
    "    unique,counts=np.unique(arr,return_counts=True)\n",
    "    prob = counts/len(arr)\n",
    "    # ii.         Determina el Momento estadístico 1\n",
    "    moment1 = np.sum(unique * prob)\n",
    "    \n",
    "    # iii.         Determina el Momento estadístico 2\n",
    "    moment2 =np.sum( np.square(unique) * prob)\n",
    "    \n",
    "    # iv.         Determina la Varianza\n",
    "    #print(\"var:\",moment2 - np.square(moment1))\n",
    "    \n",
    "    # v.         Determina el Momento estadístico 3\n",
    "    moment3 = np.sum(np.power(unique,3) * prob)\n",
    "    \n",
    "    # vi.         Determina el Momento estadístico 4\n",
    "    moment4 = (np.power(unique,4) * prob)\n",
    "    \n",
    "    \n",
    "    data = pd.DataFrame(np.array([counts,prob]).transpose(),index=unique, columns=[\"Quantity\",\"P[Xk]\"])\n",
    "#     print(data)\n",
    "    print(\"Varianza:\",np.var(arr))\n",
    "    print(\"Media:\",np.mean(arr))\n",
    "    \n",
    "    for i in range(1,5):\n",
    "        data[{3:\"Asimetria:\",\n",
    "               4:\"Curtosis:\"\n",
    "              }.get(i,\"E[X^\"+str(i)+\"]\")] = np.power(unique,i) * prob\n",
    "    print(data)"
   ]
  },
  {
   "cell_type": "code",
   "execution_count": 3,
   "metadata": {},
   "outputs": [
    {
     "name": "stdout",
     "output_type": "stream",
     "text": [
      "Varianza: 21.3424\n",
      "Media: 5.76\n",
      "    Quantity  P[Xk]  E[X^1]  E[X^2]  Asimetria:  Curtosis:\n",
      "1        3.0   0.06    0.06    0.06        0.06       0.06\n",
      "2        6.0   0.12    0.24    0.48        0.96       1.92\n",
      "3        9.0   0.18    0.54    1.62        4.86      14.58\n",
      "4        7.0   0.14    0.56    2.24        8.96      35.84\n",
      "5        5.0   0.10    0.50    2.50       12.50      62.50\n",
      "6        4.0   0.08    0.48    2.88       17.28     103.68\n",
      "7        3.0   0.06    0.42    2.94       20.58     144.06\n",
      "8        3.0   0.06    0.48    3.84       30.72     245.76\n",
      "9        3.0   0.06    0.54    4.86       43.74     393.66\n",
      "10       2.0   0.04    0.40    4.00       40.00     400.00\n",
      "11       2.0   0.04    0.44    4.84       53.24     585.64\n",
      "12       1.0   0.02    0.24    2.88       34.56     414.72\n",
      "13       1.0   0.02    0.26    3.38       43.94     571.22\n",
      "30       1.0   0.02    0.60   18.00      540.00   16200.00\n"
     ]
    }
   ],
   "source": [
    "data = [11, 8, 2, 3, 1, 4, 5, 3, 4, 6, 2, 3, 4, 4, 5, 7, 9, 3, 3, 1, 4, 7, 2, 3, 2, 2, 1, 5, 5, 7, 8, 9, 10, 4, 3, 2, 6, 9, 11, 3, 3, 4, 12, 5, 6, 8, 30, 6, 10, 13]\n",
    "data = np.array(data)\n",
    "analysis(data)"
   ]
  },
  {
   "cell_type": "markdown",
   "metadata": {},
   "source": [
    "Estos datos tienen una cola bastante larga."
   ]
  },
  {
   "cell_type": "code",
   "execution_count": 4,
   "metadata": {},
   "outputs": [
    {
     "data": {
      "text/plain": [
       "0.84"
      ]
     },
     "execution_count": 4,
     "metadata": {},
     "output_type": "execute_result"
    }
   ],
   "source": [
    "unique, counts = np.unique(data,return_counts=True)\n",
    "mean = np.mean(data)\n",
    "std = np.std(data)\n",
    "fits = np.count_nonzero((data > mean-std) & (data<mean+std))/len(data)\n",
    "\n",
    "fits# Porcentaje que cae dentro de una desviacion estandard"
   ]
  },
  {
   "cell_type": "code",
   "execution_count": 5,
   "metadata": {},
   "outputs": [
    {
     "name": "stdout",
     "output_type": "stream",
     "text": [
      "W: 1  P[1] = 0\n",
      "W: 2\n",
      "+P[1] * P[1]\n",
      "W: 3\n",
      "+P[1] * P[2]\n",
      "+P[2] * P[1]\n",
      "W: 4\n",
      "+P[1] * P[3]\n",
      "+P[2] * P[2]\n",
      "+P[3] * P[1]\n",
      "W: 5\n",
      "+P[1] * P[4]\n",
      "+P[2] * P[3]\n",
      "+P[3] * P[2]\n",
      "+P[4] * P[1]\n",
      "W: 6\n",
      "+P[2] * P[4]\n",
      "+P[3] * P[3]\n",
      "+P[4] * P[2]\n",
      "W: 7\n",
      "+P[3] * P[4]\n",
      "+P[4] * P[3]\n",
      "W: 8\n",
      "+P[4] * P[4]\n"
     ]
    }
   ],
   "source": [
    "print(\"W: 1\", \" P[1] = 0\")\n",
    "for i in range(2,9):\n",
    "    print(\"W:\",i)\n",
    "    for j in range(1,5):\n",
    "        for k in range(1,5):\n",
    "            if(j+k == i):\n",
    "                print(\"+P[\"+str(j)+\"] * P[\"+str(k)+\"]\" )"
   ]
  },
  {
   "cell_type": "code",
   "execution_count": null,
   "metadata": {},
   "outputs": [],
   "source": []
  }
 ],
 "metadata": {
  "kernelspec": {
   "display_name": "Python 3",
   "language": "python",
   "name": "python3"
  },
  "language_info": {
   "codemirror_mode": {
    "name": "ipython",
    "version": 3
   },
   "file_extension": ".py",
   "mimetype": "text/x-python",
   "name": "python",
   "nbconvert_exporter": "python",
   "pygments_lexer": "ipython3",
   "version": "3.8.2"
  }
 },
 "nbformat": 4,
 "nbformat_minor": 4
}
